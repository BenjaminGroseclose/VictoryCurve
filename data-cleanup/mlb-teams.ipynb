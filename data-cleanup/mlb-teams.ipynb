{
 "cells": [
  {
   "cell_type": "code",
   "execution_count": 45,
   "metadata": {},
   "outputs": [
    {
     "name": "stdout",
     "output_type": "stream",
     "text": [
      "   TeamID [Key]  Active         City       Name  StadiumID League Division  \\\n",
      "0       1   LAD    True  Los Angeles    Dodgers       31.0     NL     West   \n",
      "1       2   CIN    True   Cincinnati       Reds       64.0     NL  Central   \n",
      "2       3   TOR    True      Toronto  Blue Jays       42.0     AL     East   \n",
      "3       4   PIT    True   Pittsburgh    Pirates       29.0     NL  Central   \n",
      "4       5    KC    True  Kansas City     Royals       33.0     AL  Central   \n",
      "\n",
      "  PrimaryColor SecondaryColor TertiaryColor QuaternaryColor  \\\n",
      "0       005A9C         FFFFFF        EF3E42             NaN   \n",
      "1       C6011F         000000        FFFFFF             NaN   \n",
      "2       134A8E         1D2D5C        E8291C          FFFFFF   \n",
      "3       000000         FDB827        FFFFFF             NaN   \n",
      "4       004687         FFFFFF        7AB2DD          C09A5B   \n",
      "\n",
      "                                    WikipediaLogoUrl  \\\n",
      "0  https://upload.wikimedia.org/wikipedia/commons...   \n",
      "1  https://upload.wikimedia.org/wikipedia/commons...   \n",
      "2  https://upload.wikimedia.org/wikipedia/en/c/cc...   \n",
      "3  https://upload.wikimedia.org/wikipedia/commons...   \n",
      "4  https://upload.wikimedia.org/wikipedia/commons...   \n",
      "\n",
      "                                WikipediaWordMarkUrl  \n",
      "0  https://upload.wikimedia.org/wikipedia/commons...  \n",
      "1  https://upload.wikimedia.org/wikipedia/commons...  \n",
      "2  https://upload.wikimedia.org/wikipedia/en/thum...  \n",
      "3  https://upload.wikimedia.org/wikipedia/commons...  \n",
      "4  https://upload.wikimedia.org/wikipedia/commons...  \n",
      "(32, 14)\n"
     ]
    }
   ],
   "source": [
    "import pyodbc \n",
    "import pandas as pd\n",
    "import numpy as np\n",
    "\n",
    "df = pd.read_csv(\"./Team.2024.csv\")\n",
    "\n",
    "print(df.head())\n",
    "print(df.shape)\n",
    "\n",
    "# TODO: https://www.dropbox.com/scl/fi/hy0sxw6gaai7ghemrshi8/lahman_1871-2023_csv.7z?dl=0&e=1&file_subpath=%2Flahman_1871-2023_csv&rlkey=edw1u63zzxg48gvpcmr3qpnhz"
   ]
  },
  {
   "cell_type": "code",
   "execution_count": null,
   "metadata": {},
   "outputs": [],
   "source": [
    "server = 'tcp:sports-iq.database.windows.net,1433' \n",
    "database = 'main' \n",
    "username = 'CloudSAeab82b26' \n",
    "password = '' \n",
    "\n",
    "cnxn = pyodbc.connect('DRIVER={SQL Server};SERVER='+server+';DATABASE='+database+';UID='+username+';PWD='+ password)\n",
    "cursor = cnxn.cursor()"
   ]
  },
  {
   "cell_type": "code",
   "execution_count": 47,
   "metadata": {},
   "outputs": [
    {
     "name": "stdout",
     "output_type": "stream",
     "text": [
      "(30, 14)\n"
     ]
    }
   ],
   "source": [
    "df = df.drop(df[df.Active == False].index)\n",
    "df = df.replace({np.nan: None})\n",
    "print(df.shape)\n",
    "# print(df.loc[26])['[Key]']"
   ]
  },
  {
   "cell_type": "code",
   "execution_count": 48,
   "metadata": {},
   "outputs": [],
   "source": [
    "for index, row in df.iterrows():\n",
    "\t\tcursor.execute(\"INSERT INTO MLB.Teams (City,Name,Abbreviation,IsActive,League,Division,PrimaryColor,SecondaryColor,TertiaryColor) VALUES(?,?,?,?,?,?,?,?,?)\", row.City, row.Name, row['[Key]'], True, row.League, row.Division, row.PrimaryColor, row.SecondaryColor, row.TertiaryColor)\n",
    "\n",
    "cnxn.commit()\n",
    "cursor.close()"
   ]
  }
 ],
 "metadata": {
  "kernelspec": {
   "display_name": ".venv",
   "language": "python",
   "name": "python3"
  },
  "language_info": {
   "codemirror_mode": {
    "name": "ipython",
    "version": 3
   },
   "file_extension": ".py",
   "mimetype": "text/x-python",
   "name": "python",
   "nbconvert_exporter": "python",
   "pygments_lexer": "ipython3",
   "version": "3.12.0"
  }
 },
 "nbformat": 4,
 "nbformat_minor": 2
}
