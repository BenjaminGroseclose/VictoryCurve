{
 "cells": [
  {
   "cell_type": "code",
   "execution_count": 32,
   "metadata": {},
   "outputs": [
    {
     "name": "stdout",
     "output_type": "stream",
     "text": [
      "Index(['FirstName', 'LastName', 'DateOfBirth', 'PositionCategory', 'Position',\n",
      "       'BatHand', 'ThrowHand', 'Status', 'LahmanPlayerID'],\n",
      "      dtype='object')\n",
      "(6147, 9)\n"
     ]
    }
   ],
   "source": [
    "import pyodbc \n",
    "import pandas as pd\n",
    "import numpy as np\n",
    "from datetime import datetime\n",
    "\n",
    "df = pd.read_csv(\"./NewPlayers.csv\")\n",
    "\n",
    "print(df.columns)\n",
    "print(df.shape)\n",
    "\n",
    "# TODO: https://www.dropbox.com/scl/fi/hy0sxw6gaai7ghemrshi8/lahman_1871-2023_csv.7z?dl=0&e=1&file_subpath=%2Flahman_1871-2023_csv&rlkey=edw1u63zzxg48gvpcmr3qpnhz"
   ]
  },
  {
   "cell_type": "code",
   "execution_count": 33,
   "metadata": {},
   "outputs": [
    {
     "name": "stdout",
     "output_type": "stream",
     "text": [
      "  FirstName LastName DateOfBirth PositionCategory Position BatHand ThrowHand  \\\n",
      "0     David  Aardsma  1981-12-27                P       RP       R         R   \n",
      "1       Don     Aase  1954-09-08                P        P       R         R   \n",
      "2      Andy     Abad  1972-08-25               IF       1B       L         L   \n",
      "3      Jeff   Abbott  1972-08-17               OF       OF       R         L   \n",
      "4       Jim   Abbott  1967-09-19                P        P       L         L   \n",
      "\n",
      "     Status LahmanPlayerID  \n",
      "0  Inactive      aardsda01  \n",
      "1  Inactive       aasedo01  \n",
      "2  Inactive       abadan01  \n",
      "3  Inactive      abbotje01  \n",
      "4  Inactive      abbotji01  \n"
     ]
    }
   ],
   "source": [
    "print(df.head())"
   ]
  },
  {
   "cell_type": "code",
   "execution_count": null,
   "metadata": {},
   "outputs": [],
   "source": [
    "server = 'tcp:sports-iq.database.windows.net,1433' \n",
    "database = 'main' \n",
    "username = 'CloudSAeab82b26'\n",
    "password = ''\n",
    "\n",
    "cnxn = pyodbc.connect('DRIVER={SQL Server};SERVER='+server+';DATABASE='+database+';UID='+username+';PWD='+ password)\n",
    "cursor = cnxn.cursor()"
   ]
  },
  {
   "cell_type": "code",
   "execution_count": 35,
   "metadata": {},
   "outputs": [],
   "source": [
    "\"\"\"\n",
    "Index(['FirstName', 'LastName', 'DateOfBirth', 'PositionCategory', 'Position',\n",
    "       'BatHand', 'ThrowHand', 'Status', 'LahmanPlayerID'],\n",
    "      dtype='object')\n",
    "(6147, 9)\n",
    "\"\"\"\n",
    "\n",
    "for index, row in df.iterrows():\n",
    "\t\tdate = None\n",
    "\t\tteamID = None\n",
    "\n",
    "\t\tif (row.DateOfBirth is not None and type(row.DateOfBirth) is str):\n",
    "\t\t\tdate = datetime.strptime(row.DateOfBirth, \"%Y-%m-%d\")\n",
    "\n",
    "\t\tcursor.execute(\"\"\"\n",
    "\t\t\t\t\t\t\t\tINSERT INTO MLB.Players\n",
    "\t\t\t\t\t\t\t\t(FirstName, LastName, DateOfBirth, [PositionCategory], [Position], [Status], LahmanPlayerID, BatHand, ThrowHand)\n",
    "\t\t\t\t\t\t\t\tVALUES(?,?,?,?,?,?,?,?,?);\n",
    "\t\t\t\t\t\t\t\t \"\"\", \n",
    "\t\t\t\t\t\t\t\t row.FirstName, \n",
    "\t\t\t\t\t\t\t\t row.LastName,\n",
    "\t\t\t\t\t\t\t\t date, \n",
    "\t\t\t\t\t\t\t\t row.PositionCategory, \n",
    "\t\t\t\t\t\t\t\t row.Position, \n",
    "\t\t\t\t\t\t\t\t row.Status, \n",
    "\t\t\t\t\t\t\t\t row.LahmanPlayerID, \n",
    "\t\t\t\t\t\t\t\t row.BatHand,\n",
    "\t\t\t\t\t\t\t\t row.ThrowHand)\n",
    "\n",
    "\n",
    "cnxn.commit()\n",
    "cursor.close()"
   ]
  }
 ],
 "metadata": {
  "kernelspec": {
   "display_name": ".venv",
   "language": "python",
   "name": "python3"
  },
  "language_info": {
   "codemirror_mode": {
    "name": "ipython",
    "version": 3
   },
   "file_extension": ".py",
   "mimetype": "text/x-python",
   "name": "python",
   "nbconvert_exporter": "python",
   "pygments_lexer": "ipython3",
   "version": "3.12.0"
  }
 },
 "nbformat": 4,
 "nbformat_minor": 2
}
