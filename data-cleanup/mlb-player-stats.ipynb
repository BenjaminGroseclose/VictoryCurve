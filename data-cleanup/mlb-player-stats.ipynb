{
 "cells": [
  {
   "cell_type": "code",
   "execution_count": 45,
   "metadata": {},
   "outputs": [
    {
     "name": "stdout",
     "output_type": "stream",
     "text": [
      "Index(['PlayerID', 'TeamID', 'Season', 'SeasonType', 'Games', 'Starts', 'Wins',\n",
      "       'Losses', 'Saves', 'InningsPitched', 'ERA', 'EarnedRuns', 'Hits',\n",
      "       'HomeRuns', 'Strikeouts', 'StrikeoutsPerNineInnings', 'Walks',\n",
      "       'WalksPerNineInnings', 'WHIP', 'BattingAverageAgainst', 'OBP',\n",
      "       'Shutouts', 'ExternalPlayerID'],\n",
      "      dtype='object')\n",
      "(24050, 23)\n",
      "Index(['PlayerID', 'TeamID', 'Season', 'SeasonType', 'Games', 'AtBats', 'Runs',\n",
      "       'Hits', 'Doubles', 'Triples', 'HomeRuns', 'RunsBattedIn',\n",
      "       'BattingAverage', 'Strikeouts', 'Walks', 'HitByPitch', 'Steals',\n",
      "       'CaughtStealing', 'OBP', 'Slug', 'OBPPlus', 'ExternalPlayerID'],\n",
      "      dtype='object')\n",
      "(32357, 22)\n"
     ]
    }
   ],
   "source": [
    "import pyodbc \n",
    "import pandas as pd\n",
    "import numpy as np\n",
    "from datetime import datetime\n",
    "\n",
    "batting = pd.read_csv(\"./NewBatters.csv\")\n",
    "pitching = pd.read_csv(\"./NewPitchers.csv\")\n",
    "\n",
    "print(pitching.columns)\n",
    "print(pitching.shape)\n",
    "\n",
    "print(batting.columns)\n",
    "print(batting.shape)\n",
    "\n",
    "#Server=localhost;Database=master;Trusted_Connection=True"
   ]
  },
  {
   "cell_type": "code",
   "execution_count": null,
   "metadata": {},
   "outputs": [],
   "source": [
    "server = 'tcp:sports-iq.database.windows.net,1433' \n",
    "database = 'main' \n",
    "username = 'CloudSAeab82b26' \n",
    "password = ''\n",
    "\n",
    "cnxn = pyodbc.connect('DRIVER={SQL Server};SERVER='+server+';DATABASE='+database+';UID='+username+';PWD='+ password)\n",
    "cursor = cnxn.cursor()"
   ]
  },
  {
   "cell_type": "code",
   "execution_count": null,
   "metadata": {},
   "outputs": [
    {
     "name": "stdout",
     "output_type": "stream",
     "text": [
      "3601\n",
      "PlayerID                  NaN\n",
      "TeamID                     10\n",
      "Season                   2012\n",
      "SeasonType                  1\n",
      "Games                       7\n",
      "AtBats                     17\n",
      "Runs                        0\n",
      "Hits                        1\n",
      "Doubles                     0\n",
      "Triples                     0\n",
      "HomeRuns                    0\n",
      "RunsBattedIn                0\n",
      "BattingAverage          0.059\n",
      "Strikeouts                  4\n",
      "Walks                       1\n",
      "HitByPitch                  0\n",
      "Steals                      0\n",
      "CaughtStealing              0\n",
      "OBP                     0.111\n",
      "Slug                    0.059\n",
      "OBPPlus                  0.17\n",
      "ExternalPlayerID    jimenlu01\n",
      "Name: 3601, dtype: object\n",
      "3745\n",
      "PlayerID                  NaN\n",
      "TeamID                     12\n",
      "Season                   2017\n",
      "SeasonType                  1\n",
      "Games                      50\n",
      "AtBats                      2\n",
      "Runs                        0\n",
      "Hits                        0\n",
      "Doubles                     0\n",
      "Triples                     0\n",
      "HomeRuns                    0\n",
      "RunsBattedIn                0\n",
      "BattingAverage            0.0\n",
      "Strikeouts                  1\n",
      "Walks                       0\n",
      "HitByPitch                  0\n",
      "Steals                      0\n",
      "CaughtStealing              0\n",
      "OBP                       0.0\n",
      "Slug                      0.0\n",
      "OBPPlus                   0.0\n",
      "ExternalPlayerID    kontoge01\n",
      "Name: 3745, dtype: object\n"
     ]
    }
   ],
   "source": [
    "\n",
    "for index, row in batting.iterrows():\n",
    "\ttry:\n",
    "\t\tplayerID = row.PlayerID\n",
    "\t\t\"\"\"\n",
    "\tIndex(['PlayerID', 'TeamID', 'Season', 'SeasonType', 'Games', 'AtBats', 'Runs',\n",
    "\t\t\t\t'Hits', 'Doubles', 'Triples', 'HomeRuns', 'RunsBattedIn',\n",
    "\t\t\t\t'BattingAverage', 'Strikeouts', 'Walks', 'HitByPitch', 'Steals',\n",
    "\t\t\t\t'CaughtStealing', 'OBP', 'Slug', 'OBPPlus', 'ExternalPlayerID'],\n",
    "\t\t\tdtype='object')\n",
    "\t(32358, 22)\n",
    "\t(710, 22)\n",
    "\t\t\"\"\"\n",
    "\t\t\n",
    "\t\tcursor.execute(\"SELECT PlayerID FROM MLB.Players WHERE LahmanPlayerID = ?\", row.ExternalPlayerID)\n",
    "\t\tplayer = cursor.fetchone()\n",
    "\t\tif (player is not None):\n",
    "\t\t\tplayerID = player[0]\n",
    "\n",
    "\t\tcursor.execute(\"\"\"\n",
    "\t\tINSERT INTO MLB.Batting\n",
    "\t\t(\n",
    "\t\t\t\tPlayerID, TeamID, Season, SeasonType, Games, AtBats, Runs, Hits,\n",
    "\t\t\t\tDoubles, Triples, HomeRuns, RunsBattedIn, BattingAverage, Strikeouts,\n",
    "\t\t\t\tWalks, HitByPitch, Steals, CaughtStealing, OBP, Slug, OBPPlus\n",
    "\t\t)\n",
    "\t\tVALUES (?,?,?,?,?,?,?,?,?,?,?,?,?,?,?,?,?,?,?,?,?)\n",
    "\t\t\"\"\",\n",
    "\t\tplayerID, row.TeamID, row.Season, row.SeasonType, row.Games, row.AtBats, row.Runs, row.Hits,\n",
    "\t\trow.Doubles, row.Triples, row.HomeRuns, row.RunsBattedIn, row.BattingAverage, row.Strikeouts,\n",
    "\t\trow.Walks, row.HitByPitch, row.Steals, row.CaughtStealing, row.OBP, row.Slug, row.OBPPlus)\n",
    "\texcept Exception as e:\n",
    "\t\tprint(index)\n",
    "\t\tprint(row)\n",
    "\t\traise Exception(e)\n",
    "\n",
    "cnxn.commit()"
   ]
  },
  {
   "cell_type": "code",
   "execution_count": null,
   "metadata": {},
   "outputs": [
    {
     "data": {
      "text/plain": [
       "\"\\nIndex(['StatID', 'TeamID', 'PlayerID', 'SeasonType', 'Season', 'Name', 'Team',\\n       'Position', 'PositionCategory', 'Started', 'AverageDraftPosition',\\n       'AuctionValue', 'Games', 'FantasyPoints', 'AtBats', 'Runs', 'Hits',\\n       'Singles', 'Doubles', 'Triples', 'HomeRuns', 'RunsBattedIn',\\n       'BattingAverage', 'Outs', 'Strikeouts', 'Walks', 'HitByPitch',\\n       'Sacrifices', 'SacrificeFlies', 'GroundIntoDoublePlay', 'StolenBases',\\n       'CaughtStealing', 'OnBasePercentage', 'SluggingPercentage',\\n       'OnBasePlusSlugging', 'Wins', 'Losses', 'Saves',\\n       'InningsPitchedDecimal', 'TotalOutsPitched', 'InningsPitchedFull',\\n       'InningsPitchedOuts', 'EarnedRunAverage', 'PitchingHits',\\n       'PitchingRuns', 'PitchingEarnedRuns', 'PitchingWalks',\\n       'PitchingStrikeouts', 'PitchingHomeRuns', 'PitchesThrown',\\n       'PitchesThrownStrikes', 'WalksHitsPerInningsPitched',\\n       'PitchingBattingAverageAgainst', 'FantasyPointsFanDuel',\\n       'FantasyPointsDraftKings', 'WeightedOnBasePercentage',\\n       'PitchingCompleteGames', 'PitchingShutOuts', 'PitchingOnBasePercentage',\\n       'PitchingSluggingPercentage', 'PitchingOnBasePlusSlugging',\\n       'PitchingStrikeoutsPerNineInnings', 'PitchingWalksPerNineInnings',\\n       'PitchingWeightedOnBasePercentage', 'FantasyPointsBatting',\\n       'FantasyPointsPitching'],\\n\""
      ]
     },
     "execution_count": 27,
     "metadata": {},
     "output_type": "execute_result"
    }
   ],
   "source": [
    "# for index, row in df.iterrows():\n",
    "# \t\tplayerID = None\n",
    "# \t\tteamID = None\n",
    "\t\t\n",
    "# \t\tcursor.execute(\"SELECT PlayerID FROM MLB.Players WHERE ExternalPlayerID = ?\", row.PlayerID)\n",
    "# \t\tplayer = cursor.fetchone()\n",
    "# \t\tif (player is not None):\n",
    "# \t\t\tplayerID = player[0]\n",
    "\n",
    "# \t\tcursor.execute(\"SELECT TeamID FROM MLB.Teams WHERE ExternalTeamID = ?\", row.TeamID)\n",
    "# \t\tteam = cursor.fetchone()\n",
    "# \t\tif (team is not None):\n",
    "# \t\t\tteamID = team[0]\n",
    "\n",
    "# \t\tif (playerID is None or teamID is None):\n",
    "# \t\t\tcontinue\n",
    "\n",
    "# \t\tcursor.execute(\"\"\"\n",
    "# \t\t\tINSERT INTO MLB.Batting\n",
    "# \t\t\t(\n",
    "# \t\t\t\t\tPlayerID, TeamID, Season, SeasonType, Games, Starts, AtBats, Runs, Hits, Singles,\n",
    "# \t\t\t\t\tDoubles, Triples, HomeRuns, RunsBattedIn, BattingAverage, Outs, Strikeouts,\n",
    "# \t\t\t\t\tWalks, HitByPitch, Steals, CaughtStealing, OBP, Slug, OBPPlus\n",
    "# \t\t\t)\n",
    "# \t\t\tVALUES (?,?,?,?,?,?,?,?,?,?,?,?,?,?,?,?,?,?,?,?,?,?,?,?)\n",
    "# \t\t\t\"\"\",\n",
    "# \t\t\tplayerID, teamID, row.Season, row.SeasonType, row.Games, row.Started, row.AtBats, row.Runs, row.Hits, row.Singles,\n",
    "# \t\t\trow.Doubles, row.Triples, row.HomeRuns, row.RunsBattedIn, row.BattingAverage, row.Outs, row.Strikeouts,\n",
    "# \t\t\trow.Walks, row.HitByPitch, row.StolenBases, row.CaughtStealing, row.OnBasePercentage, row.SluggingPercentage, row.OnBasePlusSlugging)\n",
    "\t\t\n",
    "# \t\t# Only insert Pitchers\n",
    "# \t\tif (row.PositionCategory == 'P'):\n",
    "# \t\t\tcursor.execute(\"\"\"\n",
    "# \t\t\t\tINSERT INTO MLB.Pitching\n",
    "# \t\t\t\t(\n",
    "# \t\t\t\t\t\tPlayerID, TeamID, Season, SeasonType, Games, Starts, Wins, Losses, Saves, InningsPitched,\n",
    "# \t\t\t\t\t\tERA, Runs, Hits, HomeRuns, Strikeouts, StrikeoutsPerNineInnings, Walks, WalksPerNineInnings,\n",
    "# \t\t\t\t\t\tPitchesThrown, WHIP, BattingAverageAgainst, OBP, Slug, OBPPlus, Shutouts\n",
    "# \t\t\t\t)\n",
    "# \t\t\t\tVALUES (?,?,?,?,?,?,?,?,?,?,?,?,?,?,?,?,?,?,?,?,?,?,?,?,?)\n",
    "# \t\t\t\t\"\"\",\n",
    "# \t\t\t\tplayerID, teamID, row.Season, row.SeasonType, row.Games, row.Started, row.Wins, row.Losses, row.Saves, row.InningsPitchedDecimal,\n",
    "# \t\t\t\trow.EarnedRunAverage, row.PitchingRuns, row.PitchingHits, row.PitchingHomeRuns, row.PitchingStrikeouts, row.PitchingStrikeoutsPerNineInnings, row.PitchingWalks, row.PitchingWalksPerNineInnings,\n",
    "# \t\t\t\trow.PitchesThrown, row.WalksHitsPerInningsPitched, row.PitchingBattingAverageAgainst, row.PitchingOnBasePercentage, row.PitchingSluggingPercentage, row.PitchingOnBasePlusSlugging, row.PitchingShutOuts)\n",
    "\n",
    "# cnxn.commit()\n",
    "# cursor.close()\n"
   ]
  }
 ],
 "metadata": {
  "kernelspec": {
   "display_name": ".venv",
   "language": "python",
   "name": "python3"
  },
  "language_info": {
   "codemirror_mode": {
    "name": "ipython",
    "version": 3
   },
   "file_extension": ".py",
   "mimetype": "text/x-python",
   "name": "python",
   "nbconvert_exporter": "python",
   "pygments_lexer": "ipython3",
   "version": "3.13.1"
  }
 },
 "nbformat": 4,
 "nbformat_minor": 2
}
