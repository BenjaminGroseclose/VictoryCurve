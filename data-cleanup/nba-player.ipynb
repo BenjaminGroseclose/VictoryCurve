{
 "cells": [
  {
   "cell_type": "code",
   "execution_count": 57,
   "metadata": {},
   "outputs": [
    {
     "name": "stdout",
     "output_type": "stream",
     "text": [
      "   PlayerID    Status  TeamID Team  Jersey PositionCategory Position  \\\n",
      "0  10000001  Inactive     NaN  NaN     NaN                P       RP   \n",
      "1  10000004  Inactive     NaN  NaN     NaN                P       SP   \n",
      "2  10000005  Inactive     NaN  NaN     NaN                P       RP   \n",
      "3  10000007  Inactive     NaN  NaN     NaN                P       SP   \n",
      "4  10000008  Inactive     NaN  NaN     NaN                P       RP   \n",
      "\n",
      "  FirstName    LastName BatHand  ...               BirthDate      BirthCity  \\\n",
      "0     Chase    Anderson       R  ...  11/30/1987 12:00:00 AM  Wichita Falls   \n",
      "1    Trevor      Cahill       R  ...    3/1/1988 12:00:00 AM      Oceanside   \n",
      "2    Andrew      Chafin       R  ...   6/17/1990 12:00:00 AM      Kettering   \n",
      "3   Patrick      Corbin       L  ...   7/19/1989 12:00:00 AM           Clay   \n",
      "4     Rubby  De La Rosa       R  ...    3/4/1989 12:00:00 AM  Santo Domingo   \n",
      "\n",
      "   BirthState        BirthCountry  \\\n",
      "0          TX                 USA   \n",
      "1          CA                 USA   \n",
      "2          OH                 USA   \n",
      "3          NY                 USA   \n",
      "4         NaN  Dominican Republic   \n",
      "\n",
      "                                            PhotoUrl InjuryStatus  \\\n",
      "0  https://s3-us-west-2.amazonaws.com/static.fant...          NaN   \n",
      "1  https://s3-us-west-2.amazonaws.com/static.fant...          NaN   \n",
      "2  https://s3-us-west-2.amazonaws.com/static.fant...          NaN   \n",
      "3  https://s3-us-west-2.amazonaws.com/static.fant...          NaN   \n",
      "4  https://s3-us-west-2.amazonaws.com/static.fant...          NaN   \n",
      "\n",
      "  FanDuelPlayerID DraftKingsPlayerID       FanDuelName    DraftKingsName  \n",
      "0         38161.0           501567.0    Chase Anderson    Chase Anderson  \n",
      "1          5599.0           326540.0     Trevor Cahill     Trevor Cahill  \n",
      "2         38303.0           597763.0     Andrew Chafin     Andrew Chafin  \n",
      "3         13664.0           500846.0    Patrick Corbin    Patrick Corbin  \n",
      "4         13031.0           503952.0  Rubby De La Rosa  Rubby De La Rosa  \n",
      "\n",
      "[5 rows x 23 columns]\n",
      "(8666, 23)\n"
     ]
    }
   ],
   "source": [
    "import pyodbc \n",
    "import pandas as pd\n",
    "import numpy as np\n",
    "from datetime import datetime\n",
    "\n",
    "df = pd.read_csv(\"./Player.2024.csv\")\n",
    "\n",
    "print(df.head())\n",
    "print(df.shape)\n",
    "\n",
    "# TODO: https://www.dropbox.com/scl/fi/hy0sxw6gaai7ghemrshi8/lahman_1871-2023_csv.7z?dl=0&e=1&file_subpath=%2Flahman_1871-2023_csv&rlkey=edw1u63zzxg48gvpcmr3qpnhz"
   ]
  },
  {
   "cell_type": "code",
   "execution_count": null,
   "metadata": {},
   "outputs": [],
   "source": [
    "server = 'tcp:sports-iq.database.windows.net,1433' \n",
    "database = 'main' \n",
    "username = 'CloudSAeab82b26' \n",
    "password = '' \n",
    "\n",
    "cnxn = pyodbc.connect('DRIVER={SQL Server};SERVER='+server+';DATABASE='+database+';UID='+username+';PWD='+ password)\n",
    "cursor = cnxn.cursor()"
   ]
  },
  {
   "cell_type": "code",
   "execution_count": 59,
   "metadata": {},
   "outputs": [
    {
     "name": "stdout",
     "output_type": "stream",
     "text": [
      "<class 'pandas.core.series.Series'>\n",
      "(8664, 23)\n"
     ]
    }
   ],
   "source": [
    "\n",
    "df = df.dropna(subset=['PositionCategory'])\n",
    "df = df.replace(np.nan, None)\n",
    "\n",
    "print(type(df['BirthDate']))\n",
    "\n",
    "print(df.shape)"
   ]
  },
  {
   "cell_type": "code",
   "execution_count": 66,
   "metadata": {},
   "outputs": [],
   "source": [
    "for index, row in df.iterrows():\n",
    "\t\t\n",
    "\t\tcursor.execute(\"SELECT t.TeamID FROM [MLB].[Teams] t WHERE Abbreviation = ?\", row.Team)\n",
    "\t\tteam = cursor.fetchone()\n",
    "\n",
    "\t\tplayerTeam = int(team[0]) if team is not None else None\n",
    "\n",
    "\t\tdate = None\n",
    "\n",
    "\t\tif (row.BirthDate is not None):\n",
    "\t\t\tdate = datetime.strptime(row.BirthDate, \"%m/%d/%Y %H:%M:%S %p\")\n",
    "\t\t\t\t\t\t\t\t\t\t\t\t\t\t\t\t\t\t\t\t\t\t\t\t\t\t\t\t\t\t\t\t\t\t\t\t\t\t\t\t\t\t\t\t\t\t\t\t\t\t\t\t\t\t\t\t\t\t\t\t\t\t\t\t\t\t\t\t\t\t\t\t\t\t\t\t\t\t\t\t\t\t\t\t\t\t\t\t\t\t\t\t#11/30/1987 12:00:00 AM\n",
    "\t\tcursor.execute(\"INSERT INTO MLB.Players (FirstName,LastName,Jersey,PositionCategory,Position,Status,TeamID, DateOfBirth) VALUES(?,?,?,?,?,?,?,?)\", row.FirstName, row.LastName, row.Jersey, row.PositionCategory, row.Position, row.Status, playerTeam, date)\n",
    "\n",
    "cnxn.commit()\n",
    "cursor.close()"
   ]
  }
 ],
 "metadata": {
  "kernelspec": {
   "display_name": ".venv",
   "language": "python",
   "name": "python3"
  },
  "language_info": {
   "codemirror_mode": {
    "name": "ipython",
    "version": 3
   },
   "file_extension": ".py",
   "mimetype": "text/x-python",
   "name": "python",
   "nbconvert_exporter": "python",
   "pygments_lexer": "ipython3",
   "version": "3.13.1"
  }
 },
 "nbformat": 4,
 "nbformat_minor": 2
}
