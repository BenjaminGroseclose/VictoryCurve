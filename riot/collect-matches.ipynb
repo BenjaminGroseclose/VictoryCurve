{
 "cells": [
  {
   "cell_type": "code",
   "execution_count": 2,
   "metadata": {},
   "outputs": [
    {
     "name": "stdout",
     "output_type": "stream",
     "text": [
      "RGAPI-59d3c7c7-2a2d-49d6-a12e-cf0bd2614069\n"
     ]
    }
   ],
   "source": [
    "import os\n",
    "import requests\n",
    "import pandas as pd\n",
    "import time\n",
    "\n",
    "api_key = os.environ.get('riot_api_key')\n",
    "base_url = \"https://na1.api.riotgames.com\"\n",
    "solo_duo = \"RANKED_SOLO_5x5\"\n",
    "division = \"SILVER\"\n",
    "\n",
    "print(api_key)"
   ]
  },
  {
   "cell_type": "code",
   "execution_count": 3,
   "metadata": {},
   "outputs": [],
   "source": [
    "def getLadder(division, tier) -> pd.DataFrame:\n",
    "\turl = f\"{base_url}/lol/league/v4/entries/{solo_duo}/{division}/{tier}?page=1&api_key={api_key}\"\n",
    "\tresponse = requests.get(url)\n",
    "\n",
    "\tif response.status_code == 200:\n",
    "\t\t\tdata = response.json()\n",
    "\n",
    "\t\t\treturn pd.DataFrame(data)\n",
    "\t\n",
    "def getMasterLadder(type) -> pd.DataFrame:\n",
    "\turl = f\"{base_url}/lol/league/v4/{type}/by-queue/{solo_duo}?api_key={api_key}\"\n",
    "\n",
    "\tresponse = requests.get(url)\n",
    "\n",
    "\tprint(response)\n",
    "\n",
    "\tif response.status_code == 200:\n",
    "\t\t\tdata = response.json()\n",
    "\t\t\tplayers = data['entries']\n",
    "\n",
    "\t\t\treturn pd.DataFrame(players)\n",
    "\n",
    "def getMatchIDs(puuid):\n",
    "\turl = f\"https://americas.api.riotgames.com/lol/match/v5/matches/by-puuid/{puuid}/ids?queue=420&start=0&count=20&api_key={api_key}\"\n",
    "\n",
    "\tresponse = requests.get(url)\n",
    "\n",
    "\tif response.status_code == 200:\n",
    "\t\t\tdata = response.json()\n",
    "\n",
    "\t\t\treturn data\n",
    "\telse:\n",
    "\t\tprint(response)"
   ]
  },
  {
   "cell_type": "code",
   "execution_count": 4,
   "metadata": {},
   "outputs": [
    {
     "data": {
      "text/plain": [
       "(820, 13)"
      ]
     },
     "execution_count": 4,
     "metadata": {},
     "output_type": "execute_result"
    }
   ],
   "source": [
    "ladder_1 = getLadder(division, \"I\")\n",
    "ladder_2 = getLadder(division, \"II\")\n",
    "ladder_3 = getLadder(division, \"III\")\n",
    "ladder_4 = getLadder(division, \"IV\")\n",
    "\n",
    "ladder = pd.concat([ladder_1, ladder_2, ladder_3, ladder_4])\n",
    "\n",
    "ladder.shape"
   ]
  },
  {
   "cell_type": "code",
   "execution_count": null,
   "metadata": {},
   "outputs": [
    {
     "name": "stdout",
     "output_type": "stream",
     "text": [
      "395\n",
      "786\n",
      "1186\n",
      "1586\n",
      "1986\n",
      "2386\n",
      "2786\n",
      "3177\n",
      "3577\n",
      "3977\n",
      "4470\n",
      "4851\n",
      "5243\n",
      "5637\n",
      "6022\n",
      "6380\n",
      "6760\n",
      "7160\n",
      "7560\n",
      "7960\n",
      "8460\n",
      "8858\n",
      "9246\n",
      "9643\n",
      "10043\n",
      "10443\n",
      "10839\n",
      "11239\n",
      "11626\n",
      "12026\n",
      "12526\n",
      "12926\n",
      "13318\n",
      "13718\n",
      "14105\n",
      "14505\n",
      "14900\n",
      "15300\n",
      "15692\n",
      "16092\n",
      "16182\n",
      "(16182, 1)\n"
     ]
    },
    {
     "ename": "",
     "evalue": "",
     "output_type": "error",
     "traceback": [
      "\u001b[1;31mThe Kernel crashed while executing code in the current cell or a previous cell. \n",
      "\u001b[1;31mPlease review the code in the cell(s) to identify a possible cause of the failure. \n",
      "\u001b[1;31mClick <a href='https://aka.ms/vscodeJupyterKernelCrash'>here</a> for more info. \n",
      "\u001b[1;31mView Jupyter <a href='command:jupyter.viewOutput'>log</a> for further details."
     ]
    }
   ],
   "source": [
    "match_ids = []\n",
    "\n",
    "try:\n",
    "\tfor index, row in ladder.iterrows():\n",
    "\t\tmatches = getMatchIDs(row.puuid)\n",
    "\t\tmatch_ids.extend(matches)\n",
    "\n",
    "\t\tif (index + 1) % 20 == 0:\n",
    "\t\t\tprint(len(match_ids))\n",
    "\t\t\ttime.sleep(30) # Sleep 30 seconds so that it won't hit the rate limit\n",
    "\n",
    "\tprint(len(match_ids)) # should be 6000\n",
    "\n",
    "\n",
    "except Exception as e: print(e)\n",
    "finally:\n",
    "\tdf = pd.DataFrame({ 'match_id': match_ids })\n",
    "\n",
    "\tprint(df.shape)\n",
    "\n",
    "\tdf.to_csv(f\"./MatchIDs-{division}.csv\")"
   ]
  }
 ],
 "metadata": {
  "kernelspec": {
   "display_name": ".venv",
   "language": "python",
   "name": "python3"
  },
  "language_info": {
   "codemirror_mode": {
    "name": "ipython",
    "version": 3
   },
   "file_extension": ".py",
   "mimetype": "text/x-python",
   "name": "python",
   "nbconvert_exporter": "python",
   "pygments_lexer": "ipython3",
   "version": "3.13.1"
  }
 },
 "nbformat": 4,
 "nbformat_minor": 2
}
